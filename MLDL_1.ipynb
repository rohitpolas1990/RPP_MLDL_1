{
 "cells": [
  {
   "cell_type": "code",
   "execution_count": 1,
   "id": "fee67d55",
   "metadata": {},
   "outputs": [],
   "source": [
    "a =\"    R o h i   t   \"\n"
   ]
  },
  {
   "cell_type": "code",
   "execution_count": 6,
   "id": "6b410740",
   "metadata": {},
   "outputs": [],
   "source": [
    "b = a.strip()"
   ]
  },
  {
   "cell_type": "code",
   "execution_count": 7,
   "id": "55cf6c76",
   "metadata": {},
   "outputs": [
    {
     "name": "stdout",
     "output_type": "stream",
     "text": [
      "R o h i   t\n"
     ]
    }
   ],
   "source": [
    "print(b)"
   ]
  },
  {
   "cell_type": "code",
   "execution_count": 8,
   "id": "90bf51ca",
   "metadata": {},
   "outputs": [
    {
     "data": {
      "text/plain": [
       "0"
      ]
     },
     "execution_count": 8,
     "metadata": {},
     "output_type": "execute_result"
    }
   ],
   "source": [
    "# Its a Code fr boolean \n",
    "True * False\n"
   ]
  },
  {
   "cell_type": "code",
   "execution_count": 9,
   "id": "b2b4f807",
   "metadata": {},
   "outputs": [
    {
     "data": {
      "text/plain": [
       "'\" a = 10\\nb= 5\\n\\na+b\\n\\nprint(a+b)'"
      ]
     },
     "execution_count": 9,
     "metadata": {},
     "output_type": "execute_result"
    }
   ],
   "source": [
    "# Use of Triple Quote\n",
    "\n",
    "\"\"\"\" a = 10\n",
    "b= 5\n",
    "\n",
    "a+b\n",
    "\n",
    "print(a+b)\"\"\""
   ]
  },
  {
   "cell_type": "code",
   "execution_count": 11,
   "id": "f8395642",
   "metadata": {},
   "outputs": [
    {
     "data": {
      "text/plain": [
       "\" Rohit's note's \""
      ]
     },
     "execution_count": 11,
     "metadata": {},
     "output_type": "execute_result"
    }
   ],
   "source": [
    "# Use of single quote in string like Rohit's\n",
    "\n",
    "a = \" Rohit's note's \"\n",
    "a\n"
   ]
  },
  {
   "cell_type": "markdown",
   "id": "50c3c1ff",
   "metadata": {},
   "source": [
    "# String Slicing"
   ]
  },
  {
   "cell_type": "code",
   "execution_count": 12,
   "id": "9c682724",
   "metadata": {},
   "outputs": [
    {
     "data": {
      "text/plain": [
       "684573954176"
      ]
     },
     "execution_count": 12,
     "metadata": {},
     "output_type": "execute_result"
    }
   ],
   "source": [
    "#location of string\n",
    "\n",
    "id(a)"
   ]
  },
  {
   "cell_type": "code",
   "execution_count": 13,
   "id": "9df117ab",
   "metadata": {},
   "outputs": [
    {
     "data": {
      "text/plain": [
       "'Rohit'"
      ]
     },
     "execution_count": 13,
     "metadata": {},
     "output_type": "execute_result"
    }
   ],
   "source": [
    "a = \"Rohit\"\n",
    "a"
   ]
  },
  {
   "cell_type": "code",
   "execution_count": 15,
   "id": "c23d9dbd",
   "metadata": {},
   "outputs": [
    {
     "ename": "TypeError",
     "evalue": "'str' object does not support item assignment",
     "output_type": "error",
     "traceback": [
      "\u001b[1;31m---------------------------------------------------------------------------\u001b[0m",
      "\u001b[1;31mTypeError\u001b[0m                                 Traceback (most recent call last)",
      "\u001b[1;32m<ipython-input-15-69d2130e376c>\u001b[0m in \u001b[0;36m<module>\u001b[1;34m\u001b[0m\n\u001b[1;32m----> 1\u001b[1;33m \u001b[0ma\u001b[0m\u001b[1;33m[\u001b[0m\u001b[1;36m0\u001b[0m\u001b[1;33m]\u001b[0m \u001b[1;33m=\u001b[0m\u001b[1;34m'r'\u001b[0m\u001b[1;33m\u001b[0m\u001b[1;33m\u001b[0m\u001b[0m\n\u001b[0m",
      "\u001b[1;31mTypeError\u001b[0m: 'str' object does not support item assignment"
     ]
    }
   ],
   "source": [
    "a[0] ='r'"
   ]
  },
  {
   "cell_type": "code",
   "execution_count": 16,
   "id": "bbb4a68a",
   "metadata": {},
   "outputs": [
    {
     "data": {
      "text/plain": [
       "'Rohi'"
      ]
     },
     "execution_count": 16,
     "metadata": {},
     "output_type": "execute_result"
    }
   ],
   "source": [
    "a[:4]"
   ]
  },
  {
   "cell_type": "code",
   "execution_count": 18,
   "id": "b721c588",
   "metadata": {},
   "outputs": [
    {
     "data": {
      "text/plain": [
       "'Rht'"
      ]
     },
     "execution_count": 18,
     "metadata": {},
     "output_type": "execute_result"
    }
   ],
   "source": [
    "a[::2]"
   ]
  },
  {
   "cell_type": "code",
   "execution_count": 19,
   "id": "a8e96b5d",
   "metadata": {},
   "outputs": [],
   "source": [
    "s = \"abcdefghi\""
   ]
  },
  {
   "cell_type": "code",
   "execution_count": 20,
   "id": "e6fa64f3",
   "metadata": {},
   "outputs": [
    {
     "data": {
      "text/plain": [
       "'ihgfedcba'"
      ]
     },
     "execution_count": 20,
     "metadata": {},
     "output_type": "execute_result"
    }
   ],
   "source": [
    "s[::-1]"
   ]
  },
  {
   "cell_type": "code",
   "execution_count": 22,
   "id": "cbdf568c",
   "metadata": {},
   "outputs": [
    {
     "data": {
      "text/plain": [
       "'ihgfedcba'"
      ]
     },
     "execution_count": 22,
     "metadata": {},
     "output_type": "execute_result"
    }
   ],
   "source": [
    "s[::-1]"
   ]
  },
  {
   "cell_type": "code",
   "execution_count": 24,
   "id": "613a025a",
   "metadata": {},
   "outputs": [
    {
     "data": {
      "text/plain": [
       "'igeca'"
      ]
     },
     "execution_count": 24,
     "metadata": {},
     "output_type": "execute_result"
    }
   ],
   "source": [
    "s[::-2]"
   ]
  },
  {
   "cell_type": "code",
   "execution_count": 25,
   "id": "36685446",
   "metadata": {},
   "outputs": [
    {
     "data": {
      "text/plain": [
       "['Rohit', 30, 'Polas', (3+5j), 39.05]"
      ]
     },
     "execution_count": 25,
     "metadata": {},
     "output_type": "execute_result"
    }
   ],
   "source": [
    "c = [\"Rohit\", 30,\"Polas\",3+5j,39.05]\n",
    "c"
   ]
  },
  {
   "cell_type": "code",
   "execution_count": 26,
   "id": "0f753d3e",
   "metadata": {},
   "outputs": [
    {
     "data": {
      "text/plain": [
       "'Rohit'"
      ]
     },
     "execution_count": 26,
     "metadata": {},
     "output_type": "execute_result"
    }
   ],
   "source": [
    "c[0]"
   ]
  },
  {
   "cell_type": "code",
   "execution_count": 27,
   "id": "b66a2bc7",
   "metadata": {},
   "outputs": [
    {
     "data": {
      "text/plain": [
       "complex"
      ]
     },
     "execution_count": 27,
     "metadata": {},
     "output_type": "execute_result"
    }
   ],
   "source": [
    "type(c[3])"
   ]
  },
  {
   "cell_type": "code",
   "execution_count": 29,
   "id": "82ac5644",
   "metadata": {},
   "outputs": [
    {
     "data": {
      "text/plain": [
       "['Rohit', 30, 'Polas', (3+5j), 39.05, ['Manasvi', 1.5, 'Baby']]"
      ]
     },
     "execution_count": 29,
     "metadata": {},
     "output_type": "execute_result"
    }
   ],
   "source": [
    "c = [\"Rohit\", 30,\"Polas\",3+5j,39.05,[\"Manasvi\",1.5,'Baby']]\n",
    "c"
   ]
  },
  {
   "cell_type": "code",
   "execution_count": 35,
   "id": "12c06ce0",
   "metadata": {},
   "outputs": [
    {
     "data": {
      "text/plain": [
       "['Manasvi', 1.5]"
      ]
     },
     "execution_count": 35,
     "metadata": {},
     "output_type": "execute_result"
    }
   ],
   "source": [
    "c[5][:2]"
   ]
  },
  {
   "cell_type": "code",
   "execution_count": 37,
   "id": "6c707eab",
   "metadata": {},
   "outputs": [
    {
     "data": {
      "text/plain": [
       "1.5"
      ]
     },
     "execution_count": 37,
     "metadata": {},
     "output_type": "execute_result"
    }
   ],
   "source": [
    "c[-1][-2]"
   ]
  },
  {
   "cell_type": "code",
   "execution_count": 38,
   "id": "1c99cd12",
   "metadata": {},
   "outputs": [
    {
     "data": {
      "text/plain": [
       "['Rohit', 30, 'Polas', (3+5j), 39.05]"
      ]
     },
     "execution_count": 38,
     "metadata": {},
     "output_type": "execute_result"
    }
   ],
   "source": [
    "c[0:5]"
   ]
  },
  {
   "cell_type": "code",
   "execution_count": 39,
   "id": "6a90d5be",
   "metadata": {},
   "outputs": [
    {
     "data": {
      "text/plain": [
       "['Rohit', 'Polas', 39.05]"
      ]
     },
     "execution_count": 39,
     "metadata": {},
     "output_type": "execute_result"
    }
   ],
   "source": [
    "c[0:5:2]"
   ]
  },
  {
   "cell_type": "code",
   "execution_count": 40,
   "id": "315af3f6",
   "metadata": {},
   "outputs": [
    {
     "data": {
      "text/plain": [
       "[['Manasvi', 1.5, 'Baby'], 'Rohit']"
      ]
     },
     "execution_count": 40,
     "metadata": {},
     "output_type": "execute_result"
    }
   ],
   "source": [
    "c[::-5]"
   ]
  },
  {
   "cell_type": "code",
   "execution_count": 41,
   "id": "37f8f962",
   "metadata": {},
   "outputs": [
    {
     "data": {
      "text/plain": [
       "684557890688"
      ]
     },
     "execution_count": 41,
     "metadata": {},
     "output_type": "execute_result"
    }
   ],
   "source": [
    "id(c)"
   ]
  },
  {
   "cell_type": "code",
   "execution_count": 44,
   "id": "71d4f844",
   "metadata": {},
   "outputs": [
    {
     "data": {
      "text/plain": [
       "684558084400"
      ]
     },
     "execution_count": 44,
     "metadata": {},
     "output_type": "execute_result"
    }
   ],
   "source": [
    "id(c[2])"
   ]
  },
  {
   "cell_type": "code",
   "execution_count": 45,
   "id": "5a948207",
   "metadata": {},
   "outputs": [],
   "source": [
    "r = \"Rohit Polas\""
   ]
  },
  {
   "cell_type": "code",
   "execution_count": 47,
   "id": "3f84f5ca",
   "metadata": {},
   "outputs": [
    {
     "data": {
      "text/plain": [
       "'salo'"
      ]
     },
     "execution_count": 47,
     "metadata": {},
     "output_type": "execute_result"
    }
   ],
   "source": [
    "r[-1:-5:-1]"
   ]
  },
  {
   "cell_type": "code",
   "execution_count": 48,
   "id": "1cc6adad",
   "metadata": {},
   "outputs": [],
   "source": [
    "a = [10,20,30,40]\n",
    "b = [50,60,70,80]"
   ]
  },
  {
   "cell_type": "code",
   "execution_count": 51,
   "id": "43d87672",
   "metadata": {},
   "outputs": [
    {
     "data": {
      "text/plain": [
       "[40, 20, 30, 10]"
      ]
     },
     "execution_count": 51,
     "metadata": {},
     "output_type": "execute_result"
    }
   ],
   "source": [
    "t1 = a[0]\n",
    "t2 = a[-1]\n",
    "\n",
    "a[0] = t2\n",
    "a[-1] = t1\n",
    "a"
   ]
  },
  {
   "cell_type": "code",
   "execution_count": 52,
   "id": "98a28077",
   "metadata": {},
   "outputs": [
    {
     "data": {
      "text/plain": [
       "[80, 60, 70, 50]"
      ]
     },
     "execution_count": 52,
     "metadata": {},
     "output_type": "execute_result"
    }
   ],
   "source": [
    "t3 = b[0]\n",
    "t4 = b[-1]\n",
    "\n",
    "b[0] = t4\n",
    "b[-1] = t3\n",
    "b"
   ]
  },
  {
   "cell_type": "code",
   "execution_count": 57,
   "id": "450fcbdd",
   "metadata": {},
   "outputs": [],
   "source": [
    "def swap(name):\n",
    "    l = len(name)\n",
    "    \n",
    "    temp = name[0]\n",
    "    name[0] = name[l-1]\n",
    "    name[l-1] = temp\n",
    "    return name"
   ]
  },
  {
   "cell_type": "code",
   "execution_count": 58,
   "id": "36748133",
   "metadata": {},
   "outputs": [],
   "source": [
    "d = [10,22,4,55,66,77,88,99]"
   ]
  },
  {
   "cell_type": "code",
   "execution_count": 59,
   "id": "6be9a966",
   "metadata": {},
   "outputs": [
    {
     "data": {
      "text/plain": [
       "[99, 22, 4, 55, 66, 77, 88, 10]"
      ]
     },
     "execution_count": 59,
     "metadata": {},
     "output_type": "execute_result"
    }
   ],
   "source": [
    "swap(d)"
   ]
  },
  {
   "cell_type": "code",
   "execution_count": 60,
   "id": "240faec0",
   "metadata": {},
   "outputs": [],
   "source": [
    "def swap_with_pos(name,pos1,pos2):\n",
    "    temp = name[pos1]\n",
    "    name[pos1] = name[pos2]\n",
    "    name[pos2] = temp\n",
    "    return name"
   ]
  },
  {
   "cell_type": "code",
   "execution_count": 61,
   "id": "653cceea",
   "metadata": {},
   "outputs": [
    {
     "data": {
      "text/plain": [
       "[55, 34, 22, 66]"
      ]
     },
     "execution_count": 61,
     "metadata": {},
     "output_type": "execute_result"
    }
   ],
   "source": [
    "a= [22,34,55,66]\n",
    "swap_with_pos(a,0,2)"
   ]
  },
  {
   "cell_type": "code",
   "execution_count": 62,
   "id": "6de7a096",
   "metadata": {},
   "outputs": [],
   "source": [
    "def swap_with_pos(name,pos1,pos2):\n",
    "    name[pos1],name[pos2] = name[pos2],name[pos1]\n",
    "    return name"
   ]
  },
  {
   "cell_type": "code",
   "execution_count": 64,
   "id": "8626e0e9",
   "metadata": {},
   "outputs": [],
   "source": [
    "b = [12,24,56,78,96,78]\n"
   ]
  },
  {
   "cell_type": "code",
   "execution_count": 65,
   "id": "8601f4a4",
   "metadata": {},
   "outputs": [
    {
     "data": {
      "text/plain": [
       "[12, 24, 96, 78, 56, 78]"
      ]
     },
     "execution_count": 65,
     "metadata": {},
     "output_type": "execute_result"
    }
   ],
   "source": [
    "swap_with_pos(b,2,4)"
   ]
  },
  {
   "cell_type": "code",
   "execution_count": 66,
   "id": "b8fd48d2",
   "metadata": {},
   "outputs": [],
   "source": [
    "test_list = ['Gfg', 'is', 'best', 'for', 'Geeks']"
   ]
  },
  {
   "cell_type": "code",
   "execution_count": 67,
   "id": "884afd4c",
   "metadata": {},
   "outputs": [],
   "source": [
    "newlist = []"
   ]
  },
  {
   "cell_type": "markdown",
   "id": "c857c9e5",
   "metadata": {},
   "source": [
    "# Range Function"
   ]
  },
  {
   "cell_type": "code",
   "execution_count": 1,
   "id": "d11e8a03",
   "metadata": {},
   "outputs": [
    {
     "data": {
      "text/plain": [
       "range(0, 10)"
      ]
     },
     "execution_count": 1,
     "metadata": {},
     "output_type": "execute_result"
    }
   ],
   "source": [
    "range(10)"
   ]
  },
  {
   "cell_type": "code",
   "execution_count": 4,
   "id": "ede23f02",
   "metadata": {},
   "outputs": [
    {
     "data": {
      "text/plain": [
       "[3, 4, 5, 6, 7, 8, 9]"
      ]
     },
     "execution_count": 4,
     "metadata": {},
     "output_type": "execute_result"
    }
   ],
   "source": [
    "list(range(3,10))"
   ]
  },
  {
   "cell_type": "code",
   "execution_count": 5,
   "id": "5ece629b",
   "metadata": {},
   "outputs": [
    {
     "data": {
      "text/plain": [
       "[10, 9, 8, 7, 6, 5, 4]"
      ]
     },
     "execution_count": 5,
     "metadata": {},
     "output_type": "execute_result"
    }
   ],
   "source": [
    "list(range(10,3,-1))"
   ]
  },
  {
   "cell_type": "code",
   "execution_count": 10,
   "id": "a9c06557",
   "metadata": {},
   "outputs": [],
   "source": [
    "l = [3,4,5,6,7,8,9,10]"
   ]
  },
  {
   "cell_type": "code",
   "execution_count": 7,
   "id": "c80c2668",
   "metadata": {},
   "outputs": [
    {
     "data": {
      "text/plain": [
       "[3, 3.5, 4, 5, 6]"
      ]
     },
     "execution_count": 7,
     "metadata": {},
     "output_type": "execute_result"
    }
   ],
   "source": [
    "l.insert(1,3.5)\n",
    "l"
   ]
  },
  {
   "cell_type": "code",
   "execution_count": 8,
   "id": "4b2b3ff3",
   "metadata": {},
   "outputs": [
    {
     "data": {
      "text/plain": [
       "6"
      ]
     },
     "execution_count": 8,
     "metadata": {},
     "output_type": "execute_result"
    }
   ],
   "source": [
    "l.pop(-1)"
   ]
  },
  {
   "cell_type": "code",
   "execution_count": 11,
   "id": "fa282a8e",
   "metadata": {},
   "outputs": [
    {
     "data": {
      "text/plain": [
       "[3, 4, 5, 6, 7, 8, 9, 10]"
      ]
     },
     "execution_count": 11,
     "metadata": {},
     "output_type": "execute_result"
    }
   ],
   "source": [
    "l"
   ]
  },
  {
   "cell_type": "code",
   "execution_count": 12,
   "id": "b151532f",
   "metadata": {},
   "outputs": [
    {
     "name": "stdout",
     "output_type": "stream",
     "text": [
      "3\n",
      "4\n",
      "5\n",
      "6\n",
      "7\n",
      "8\n",
      "9\n",
      "10\n"
     ]
    }
   ],
   "source": [
    "for i in l:\n",
    "    print(i)"
   ]
  },
  {
   "cell_type": "code",
   "execution_count": 18,
   "id": "31b1ae5e",
   "metadata": {},
   "outputs": [
    {
     "data": {
      "text/plain": [
       "[5, 6, 7, 8, 9, 10, 11, 12]"
      ]
     },
     "execution_count": 18,
     "metadata": {},
     "output_type": "execute_result"
    }
   ],
   "source": [
    "a = []\n",
    "for i in l:\n",
    "    a.append(i+2)\n",
    "a"
   ]
  },
  {
   "cell_type": "code",
   "execution_count": 19,
   "id": "0b9d2929",
   "metadata": {},
   "outputs": [
    {
     "data": {
      "text/plain": [
       "8"
      ]
     },
     "execution_count": 19,
     "metadata": {},
     "output_type": "execute_result"
    }
   ],
   "source": [
    "len(l)"
   ]
  },
  {
   "cell_type": "code",
   "execution_count": 20,
   "id": "d6a824aa",
   "metadata": {},
   "outputs": [],
   "source": [
    "for i in range(len(l)):\n",
    "    a.append(i+3)"
   ]
  },
  {
   "cell_type": "code",
   "execution_count": 21,
   "id": "1dc13a30",
   "metadata": {},
   "outputs": [
    {
     "data": {
      "text/plain": [
       "[5, 6, 7, 8, 9, 10, 11, 12, 3, 4, 5, 6, 7, 8, 9, 10]"
      ]
     },
     "execution_count": 21,
     "metadata": {},
     "output_type": "execute_result"
    }
   ],
   "source": [
    "a"
   ]
  },
  {
   "cell_type": "code",
   "execution_count": 22,
   "id": "20f25ee6",
   "metadata": {},
   "outputs": [
    {
     "name": "stdout",
     "output_type": "stream",
     "text": [
      "5\n",
      "6\n",
      "7\n",
      "8\n",
      "9\n",
      "10\n",
      "11\n",
      "12\n",
      "3\n",
      "4\n",
      "5\n",
      "6\n",
      "7\n",
      "8\n",
      "9\n",
      "10\n"
     ]
    }
   ],
   "source": [
    "for i in range(len(a)):\n",
    "    print(a[i])"
   ]
  },
  {
   "cell_type": "code",
   "execution_count": 23,
   "id": "1640fb82",
   "metadata": {},
   "outputs": [
    {
     "data": {
      "text/plain": [
       "[3, 4, 5, 6, 7, 8, 9, 10, 11, 12, 13, 14, 15, 16, 17, 18]"
      ]
     },
     "execution_count": 23,
     "metadata": {},
     "output_type": "execute_result"
    }
   ],
   "source": [
    "c = []\n",
    "\n",
    "for i in range(len(a)):\n",
    "    c.append(i+3)\n",
    "    \n",
    "c"
   ]
  },
  {
   "cell_type": "code",
   "execution_count": 24,
   "id": "72624dcf",
   "metadata": {},
   "outputs": [
    {
     "data": {
      "text/plain": [
       "[11, 12, 13, 14, 15, 16, 17, 18]"
      ]
     },
     "execution_count": 24,
     "metadata": {},
     "output_type": "execute_result"
    }
   ],
   "source": [
    "d = []\n",
    "\n",
    "for i in c:\n",
    "    if i > 10:\n",
    "        d.append(i)\n",
    "d"
   ]
  },
  {
   "cell_type": "code",
   "execution_count": 25,
   "id": "35383952",
   "metadata": {},
   "outputs": [],
   "source": [
    "s = [ 1,2,3,4,5,\"Rohit\", \"Nayan\"]"
   ]
  },
  {
   "cell_type": "code",
   "execution_count": 26,
   "id": "70bbd7ce",
   "metadata": {},
   "outputs": [
    {
     "data": {
      "text/plain": [
       "['Rohit', 'Nayan']"
      ]
     },
     "execution_count": 26,
     "metadata": {},
     "output_type": "execute_result"
    }
   ],
   "source": [
    "t = []\n",
    "\n",
    "for i in s:\n",
    "    if type(i) != int:\n",
    "        t.append(i)\n",
    "t"
   ]
  },
  {
   "cell_type": "code",
   "execution_count": 30,
   "id": "d3806168",
   "metadata": {},
   "outputs": [
    {
     "name": "stdout",
     "output_type": "stream",
     "text": [
      "0\n",
      "1\n",
      "3\n",
      "6\n",
      "10\n",
      "15\n",
      "21\n",
      "28\n",
      "36\n",
      "45\n",
      "55\n"
     ]
    }
   ],
   "source": [
    "d = 10\n",
    "s = 0\n",
    "i = 0\n",
    "\n",
    "while i<=d:\n",
    "    s = s + i\n",
    "    i = i + 1\n",
    "    print(s)\n"
   ]
  },
  {
   "cell_type": "code",
   "execution_count": 31,
   "id": "75e4d4d0",
   "metadata": {},
   "outputs": [
    {
     "name": "stdout",
     "output_type": "stream",
     "text": [
      "R\n",
      "o\n",
      "h\n",
      "i\n",
      "t\n"
     ]
    }
   ],
   "source": [
    "for i in \"Rohit\":\n",
    "    print(i)"
   ]
  },
  {
   "cell_type": "code",
   "execution_count": 34,
   "id": "d31ed889",
   "metadata": {},
   "outputs": [
    {
     "name": "stdout",
     "output_type": "stream",
     "text": [
      "R\n",
      "o\n",
      "h\n"
     ]
    }
   ],
   "source": [
    "for i in \"Rohit\":\n",
    "    if i != \"i\":\n",
    "        print(i)\n",
    "    else: break"
   ]
  },
  {
   "cell_type": "code",
   "execution_count": 36,
   "id": "b9c5df83",
   "metadata": {},
   "outputs": [
    {
     "name": "stdout",
     "output_type": "stream",
     "text": [
      "R\n",
      "o\n",
      "h\n"
     ]
    }
   ],
   "source": [
    "for i in \"Rohit\":\n",
    "    if i == \"i\":\n",
    "        break\n",
    "    print(i)"
   ]
  },
  {
   "cell_type": "code",
   "execution_count": 2,
   "id": "937c979d",
   "metadata": {},
   "outputs": [
    {
     "name": "stdout",
     "output_type": "stream",
     "text": [
      "R\n",
      "o\n",
      "h\n",
      "t\n"
     ]
    }
   ],
   "source": [
    "r = \"Rohit\"\n",
    "\n",
    "for i in r:\n",
    "    if i ==\"i\":\n",
    "        continue\n",
    "    else: print(i)"
   ]
  },
  {
   "cell_type": "code",
   "execution_count": 4,
   "id": "2bb8268e",
   "metadata": {},
   "outputs": [
    {
     "name": "stdout",
     "output_type": "stream",
     "text": [
      "234\n"
     ]
    },
    {
     "data": {
      "text/plain": [
       "str"
      ]
     },
     "execution_count": 4,
     "metadata": {},
     "output_type": "execute_result"
    }
   ],
   "source": [
    "type(input())"
   ]
  },
  {
   "cell_type": "code",
   "execution_count": 6,
   "id": "358a8611",
   "metadata": {},
   "outputs": [
    {
     "name": "stdout",
     "output_type": "stream",
     "text": [
      "12\n"
     ]
    },
    {
     "data": {
      "text/plain": [
       "int"
      ]
     },
     "execution_count": 6,
     "metadata": {},
     "output_type": "execute_result"
    }
   ],
   "source": [
    "a = input()\n",
    "b = int(a)\n",
    "type(b)"
   ]
  },
  {
   "cell_type": "code",
   "execution_count": 7,
   "id": "7be54217",
   "metadata": {},
   "outputs": [
    {
     "data": {
      "text/plain": [
       "234"
      ]
     },
     "execution_count": 7,
     "metadata": {},
     "output_type": "execute_result"
    }
   ],
   "source": [
    "a = int(\"234\")\n",
    "a"
   ]
  },
  {
   "cell_type": "code",
   "execution_count": 11,
   "id": "ec41743b",
   "metadata": {},
   "outputs": [],
   "source": [
    "a = int(\"23\")"
   ]
  },
  {
   "cell_type": "code",
   "execution_count": 19,
   "id": "ad09fc02",
   "metadata": {},
   "outputs": [
    {
     "name": "stdout",
     "output_type": "stream",
     "text": [
      "10\n",
      "[]\n"
     ]
    }
   ],
   "source": [
    "l = [1,2,3,4,5,6,7,8,9,11,4,5,11,3,4,6,11]\n",
    "\n",
    "a = int(input())\n",
    "m =[]\n",
    "for i in l:\n",
    "    if i ==a:\n",
    "        m.append(i)\n",
    "\n",
    "print(m)"
   ]
  },
  {
   "cell_type": "code",
   "execution_count": 23,
   "id": "efac430f",
   "metadata": {},
   "outputs": [
    {
     "data": {
      "text/plain": [
       "'Rohit Polas1'"
      ]
     },
     "execution_count": 23,
     "metadata": {},
     "output_type": "execute_result"
    }
   ],
   "source": [
    "\"Rohit\" +\" \" + \"Polas\" +\"1\""
   ]
  },
  {
   "cell_type": "code",
   "execution_count": 26,
   "id": "b480c624",
   "metadata": {},
   "outputs": [
    {
     "data": {
      "text/plain": [
       "[1, 2, 3, 4, 6]"
      ]
     },
     "execution_count": 26,
     "metadata": {},
     "output_type": "execute_result"
    }
   ],
   "source": [
    "[1,2,3,4] + [6]"
   ]
  },
  {
   "cell_type": "code",
   "execution_count": 6,
   "id": "12ad5f98",
   "metadata": {},
   "outputs": [
    {
     "data": {
      "text/plain": [
       "'rohitrohitrohit'"
      ]
     },
     "execution_count": 6,
     "metadata": {},
     "output_type": "execute_result"
    }
   ],
   "source": [
    "\"rohit\" *3\n"
   ]
  },
  {
   "cell_type": "code",
   "execution_count": 7,
   "id": "e2e5c0ea",
   "metadata": {},
   "outputs": [
    {
     "data": {
      "text/plain": [
       "[1, 2, 3, 1, 2, 3, 1, 2, 3]"
      ]
     },
     "execution_count": 7,
     "metadata": {},
     "output_type": "execute_result"
    }
   ],
   "source": [
    "[1,2,3]*3"
   ]
  },
  {
   "cell_type": "code",
   "execution_count": 8,
   "id": "26cbd2b2",
   "metadata": {},
   "outputs": [],
   "source": [
    "s = \"rohit\""
   ]
  },
  {
   "cell_type": "code",
   "execution_count": 9,
   "id": "a98a069b",
   "metadata": {},
   "outputs": [
    {
     "data": {
      "text/plain": [
       "'ROHIT'"
      ]
     },
     "execution_count": 9,
     "metadata": {},
     "output_type": "execute_result"
    }
   ],
   "source": [
    "s.upper()"
   ]
  },
  {
   "cell_type": "code",
   "execution_count": 10,
   "id": "53040bda",
   "metadata": {},
   "outputs": [],
   "source": [
    "r = \"ROhit\""
   ]
  },
  {
   "cell_type": "code",
   "execution_count": 11,
   "id": "87a85b01",
   "metadata": {},
   "outputs": [
    {
     "data": {
      "text/plain": [
       "'rohit'"
      ]
     },
     "execution_count": 11,
     "metadata": {},
     "output_type": "execute_result"
    }
   ],
   "source": [
    "r.lower()"
   ]
  },
  {
   "cell_type": "code",
   "execution_count": 14,
   "id": "c66cbbaf",
   "metadata": {},
   "outputs": [],
   "source": [
    "r = \"Rohit Polas is my name\""
   ]
  },
  {
   "cell_type": "code",
   "execution_count": 15,
   "id": "82e019ff",
   "metadata": {},
   "outputs": [
    {
     "data": {
      "text/plain": [
       "['Rohit', 'Polas', 'is', 'my', 'name']"
      ]
     },
     "execution_count": 15,
     "metadata": {},
     "output_type": "execute_result"
    }
   ],
   "source": [
    "r.split()"
   ]
  },
  {
   "cell_type": "code",
   "execution_count": 20,
   "id": "a1328ae0",
   "metadata": {},
   "outputs": [],
   "source": [
    "s = \"Rohit@Polas@is@my@name\""
   ]
  },
  {
   "cell_type": "code",
   "execution_count": 24,
   "id": "5b301531",
   "metadata": {},
   "outputs": [
    {
     "data": {
      "text/plain": [
       "['Rohit@Polas@is@my@name']"
      ]
     },
     "execution_count": 24,
     "metadata": {},
     "output_type": "execute_result"
    }
   ],
   "source": [
    "s.split('A')"
   ]
  },
  {
   "cell_type": "code",
   "execution_count": 25,
   "id": "633d27ca",
   "metadata": {},
   "outputs": [],
   "source": [
    "s1 = \"asefdslkdkgkg;kg;kjgfl\"\n",
    "s2 = \"asefdslkdkgkg;kg;kjgfl\""
   ]
  },
  {
   "cell_type": "code",
   "execution_count": 28,
   "id": "8014c277",
   "metadata": {},
   "outputs": [
    {
     "data": {
      "text/plain": [
       "['asefdslkdkgkg', 'kg', 'kjgfl']"
      ]
     },
     "execution_count": 28,
     "metadata": {},
     "output_type": "execute_result"
    }
   ],
   "source": [
    "s1.split(\";\")"
   ]
  },
  {
   "cell_type": "code",
   "execution_count": 27,
   "id": "c4c8c0c5",
   "metadata": {},
   "outputs": [
    {
     "data": {
      "text/plain": [
       "('asefdslkdkgkg', ';', 'kg;kjgfl')"
      ]
     },
     "execution_count": 27,
     "metadata": {},
     "output_type": "execute_result"
    }
   ],
   "source": [
    "s2.partition(\";\")"
   ]
  },
  {
   "cell_type": "code",
   "execution_count": 30,
   "id": "7c8c39b5",
   "metadata": {},
   "outputs": [
    {
     "data": {
      "text/plain": [
       "-1"
      ]
     },
     "execution_count": 30,
     "metadata": {},
     "output_type": "execute_result"
    }
   ],
   "source": [
    "s1.find(\"z\")"
   ]
  },
  {
   "cell_type": "code",
   "execution_count": 32,
   "id": "0e6342f8",
   "metadata": {},
   "outputs": [
    {
     "data": {
      "text/plain": [
       "'**********************Rohit***********************'"
      ]
     },
     "execution_count": 32,
     "metadata": {},
     "output_type": "execute_result"
    }
   ],
   "source": [
    "f = \"Rohit\"\n",
    "f.center(50,\"*\")"
   ]
  },
  {
   "cell_type": "code",
   "execution_count": 33,
   "id": "f182dfc6",
   "metadata": {},
   "outputs": [],
   "source": [
    "t = 'rohit\\tpolas'"
   ]
  },
  {
   "cell_type": "code",
   "execution_count": 34,
   "id": "2a8287b8",
   "metadata": {},
   "outputs": [
    {
     "data": {
      "text/plain": [
       "['rohit', 'polas']"
      ]
     },
     "execution_count": 34,
     "metadata": {},
     "output_type": "execute_result"
    }
   ],
   "source": [
    "t.split('\\t')"
   ]
  },
  {
   "cell_type": "code",
   "execution_count": 35,
   "id": "60e82111",
   "metadata": {},
   "outputs": [
    {
     "data": {
      "text/plain": [
       "'My name is Rohit polas'"
      ]
     },
     "execution_count": 35,
     "metadata": {},
     "output_type": "execute_result"
    }
   ],
   "source": [
    "a = \"Rohit\"\n",
    "b = \"polas\"\n",
    "\n",
    "\"My name is {} {}\".format(a,b)"
   ]
  },
  {
   "cell_type": "code",
   "execution_count": 36,
   "id": "90d46135",
   "metadata": {},
   "outputs": [
    {
     "data": {
      "text/plain": [
       "True"
      ]
     },
     "execution_count": 36,
     "metadata": {},
     "output_type": "execute_result"
    }
   ],
   "source": [
    "a.isalnum()"
   ]
  },
  {
   "cell_type": "code",
   "execution_count": 37,
   "id": "0451a94b",
   "metadata": {},
   "outputs": [
    {
     "data": {
      "text/plain": [
       "True"
      ]
     },
     "execution_count": 37,
     "metadata": {},
     "output_type": "execute_result"
    }
   ],
   "source": [
    "a.isalpha()"
   ]
  },
  {
   "cell_type": "code",
   "execution_count": 38,
   "id": "eab3bb9f",
   "metadata": {},
   "outputs": [
    {
     "data": {
      "text/plain": [
       "False"
      ]
     },
     "execution_count": 38,
     "metadata": {},
     "output_type": "execute_result"
    }
   ],
   "source": [
    "a.isdigit()"
   ]
  },
  {
   "cell_type": "code",
   "execution_count": 39,
   "id": "a4d26c19",
   "metadata": {},
   "outputs": [
    {
     "data": {
      "text/plain": [
       "False"
      ]
     },
     "execution_count": 39,
     "metadata": {},
     "output_type": "execute_result"
    }
   ],
   "source": [
    "a.islower()"
   ]
  },
  {
   "cell_type": "code",
   "execution_count": 42,
   "id": "30d925b2",
   "metadata": {},
   "outputs": [],
   "source": [
    "a= \"ROHiT\""
   ]
  },
  {
   "cell_type": "code",
   "execution_count": 43,
   "id": "ea47fb00",
   "metadata": {},
   "outputs": [
    {
     "data": {
      "text/plain": [
       "False"
      ]
     },
     "execution_count": 43,
     "metadata": {},
     "output_type": "execute_result"
    }
   ],
   "source": [
    "a.isupper()"
   ]
  },
  {
   "cell_type": "code",
   "execution_count": 44,
   "id": "d5e92705",
   "metadata": {},
   "outputs": [
    {
     "data": {
      "text/plain": [
       "False"
      ]
     },
     "execution_count": 44,
     "metadata": {},
     "output_type": "execute_result"
    }
   ],
   "source": [
    "a.islower()"
   ]
  },
  {
   "cell_type": "code",
   "execution_count": 45,
   "id": "4ef16368",
   "metadata": {},
   "outputs": [
    {
     "data": {
      "text/plain": [
       "False"
      ]
     },
     "execution_count": 45,
     "metadata": {},
     "output_type": "execute_result"
    }
   ],
   "source": [
    "a.istitle()"
   ]
  },
  {
   "cell_type": "code",
   "execution_count": 51,
   "id": "a3adcd64",
   "metadata": {},
   "outputs": [],
   "source": [
    "a = \"Rohit Polas\""
   ]
  },
  {
   "cell_type": "code",
   "execution_count": 52,
   "id": "872ea705",
   "metadata": {},
   "outputs": [
    {
     "data": {
      "text/plain": [
       "True"
      ]
     },
     "execution_count": 52,
     "metadata": {},
     "output_type": "execute_result"
    }
   ],
   "source": [
    "a.istitle()"
   ]
  },
  {
   "cell_type": "code",
   "execution_count": 55,
   "id": "0b7751fc",
   "metadata": {},
   "outputs": [
    {
     "data": {
      "text/plain": [
       "True"
      ]
     },
     "execution_count": 55,
     "metadata": {},
     "output_type": "execute_result"
    }
   ],
   "source": [
    "a.endswith('s')"
   ]
  },
  {
   "cell_type": "code",
   "execution_count": 57,
   "id": "9accaa90",
   "metadata": {},
   "outputs": [
    {
     "data": {
      "text/plain": [
       "True"
      ]
     },
     "execution_count": 57,
     "metadata": {},
     "output_type": "execute_result"
    }
   ],
   "source": [
    "a.startswith('R')"
   ]
  },
  {
   "cell_type": "code",
   "execution_count": 59,
   "id": "b9c7b420",
   "metadata": {},
   "outputs": [],
   "source": [
    "a = [1,2,3,\"R\",505,5,5,5,\"Pol\"]\n",
    "b = [3,4,5]\n",
    "\n"
   ]
  },
  {
   "cell_type": "code",
   "execution_count": 62,
   "id": "22986ff1",
   "metadata": {},
   "outputs": [
    {
     "data": {
      "text/plain": [
       "[]"
      ]
     },
     "execution_count": 62,
     "metadata": {},
     "output_type": "execute_result"
    }
   ],
   "source": [
    "(a+b)*0\n"
   ]
  },
  {
   "cell_type": "code",
   "execution_count": 63,
   "id": "731c73f9",
   "metadata": {},
   "outputs": [],
   "source": [
    "a = [\"R\", \"O\", \"H\", \"I\", \"T\"]"
   ]
  },
  {
   "cell_type": "code",
   "execution_count": 67,
   "id": "5809767c",
   "metadata": {},
   "outputs": [
    {
     "data": {
      "text/plain": [
       "['R', 'C', 'A', 'A', 'O', 'H', 'I', 'C', 'T']"
      ]
     },
     "execution_count": 67,
     "metadata": {},
     "output_type": "execute_result"
    }
   ],
   "source": [
    "a.insert(-1,\"C\")\n",
    "a"
   ]
  },
  {
   "cell_type": "code",
   "execution_count": 68,
   "id": "4b9f216a",
   "metadata": {},
   "outputs": [],
   "source": [
    "b = [\"P\", \"O\", \"L\",\"A\",\"S\"]"
   ]
  },
  {
   "cell_type": "code",
   "execution_count": 72,
   "id": "0aa6cd3d",
   "metadata": {},
   "outputs": [
    {
     "data": {
      "text/plain": [
       "['P', 'O', 'L', 'BB', 'BB', 'BB', 'cB', 'A', 'S']"
      ]
     },
     "execution_count": 72,
     "metadata": {},
     "output_type": "execute_result"
    }
   ],
   "source": [
    "b.insert(-2,\"cB\")\n",
    "b"
   ]
  },
  {
   "cell_type": "code",
   "execution_count": 73,
   "id": "cafb60aa",
   "metadata": {},
   "outputs": [
    {
     "data": {
      "text/plain": [
       "['P', 'O', 'L', 'BB', 'BB', 'BB', 'cB', 'A', 'S', 'VVV']"
      ]
     },
     "execution_count": 73,
     "metadata": {},
     "output_type": "execute_result"
    }
   ],
   "source": [
    "b.append(\"VVV\")\n",
    "b"
   ]
  },
  {
   "cell_type": "code",
   "execution_count": 75,
   "id": "265c6230",
   "metadata": {},
   "outputs": [
    {
     "data": {
      "text/plain": [
       "['P', 'O', 'L', 'BB', 'BB', 'BB', 'cB', 'A']"
      ]
     },
     "execution_count": 75,
     "metadata": {},
     "output_type": "execute_result"
    }
   ],
   "source": [
    "b.pop()\n",
    "b"
   ]
  },
  {
   "cell_type": "code",
   "execution_count": 76,
   "id": "0d2f363d",
   "metadata": {},
   "outputs": [
    {
     "data": {
      "text/plain": [
       "['A', 'cB', 'BB', 'BB', 'BB', 'L', 'O', 'P']"
      ]
     },
     "execution_count": 76,
     "metadata": {},
     "output_type": "execute_result"
    }
   ],
   "source": [
    "b[: : -1]"
   ]
  },
  {
   "cell_type": "code",
   "execution_count": 3,
   "id": "1e6502ee",
   "metadata": {},
   "outputs": [
    {
     "data": {
      "text/plain": [
       "[[1, 2, 3], [5, 6, 7], [7, 8, 9, 10]]"
      ]
     },
     "execution_count": 3,
     "metadata": {},
     "output_type": "execute_result"
    }
   ],
   "source": [
    "a = [1,2,3]\n",
    "b = [5,6,7]\n",
    "c = [7,8,9,10]\n",
    "\n",
    "d =[a,b,c]\n",
    "d"
   ]
  },
  {
   "cell_type": "code",
   "execution_count": 6,
   "id": "df2c2d24",
   "metadata": {},
   "outputs": [
    {
     "data": {
      "text/plain": [
       "[10, 9, 8, 7]"
      ]
     },
     "execution_count": 6,
     "metadata": {},
     "output_type": "execute_result"
    }
   ],
   "source": [
    "d[2][::-1]"
   ]
  },
  {
   "cell_type": "code",
   "execution_count": 7,
   "id": "f554280b",
   "metadata": {},
   "outputs": [
    {
     "data": {
      "text/plain": [
       "[10, 9, 8, 7]"
      ]
     },
     "execution_count": 7,
     "metadata": {},
     "output_type": "execute_result"
    }
   ],
   "source": [
    "d[0][::-1]\n",
    "d[1][::-1]\n",
    "d[2][::-1]"
   ]
  },
  {
   "cell_type": "code",
   "execution_count": 8,
   "id": "130f894c",
   "metadata": {},
   "outputs": [
    {
     "data": {
      "text/plain": [
       "[[1, 2, 3], [5, 6, 7], [7, 8, 9, 10]]"
      ]
     },
     "execution_count": 8,
     "metadata": {},
     "output_type": "execute_result"
    }
   ],
   "source": [
    "d"
   ]
  },
  {
   "cell_type": "code",
   "execution_count": 17,
   "id": "79b96263",
   "metadata": {},
   "outputs": [],
   "source": [
    "d = d[::-1]"
   ]
  },
  {
   "cell_type": "code",
   "execution_count": 18,
   "id": "3666b0c1",
   "metadata": {},
   "outputs": [
    {
     "data": {
      "text/plain": [
       "[[7, 8, 9, 10], [5, 6, 7], [1, 2, 3]]"
      ]
     },
     "execution_count": 18,
     "metadata": {},
     "output_type": "execute_result"
    }
   ],
   "source": [
    "d"
   ]
  },
  {
   "cell_type": "code",
   "execution_count": 13,
   "id": "a3c021db",
   "metadata": {},
   "outputs": [],
   "source": [
    "n = m[0][::-1]"
   ]
  },
  {
   "cell_type": "code",
   "execution_count": 15,
   "id": "77aa6894",
   "metadata": {},
   "outputs": [],
   "source": [
    "for i in m:\n",
    "    i = i[::-1]"
   ]
  },
  {
   "cell_type": "code",
   "execution_count": 16,
   "id": "d0c8008c",
   "metadata": {},
   "outputs": [
    {
     "data": {
      "text/plain": [
       "[[7, 8, 9, 10], [5, 6, 7], [1, 2, 3]]"
      ]
     },
     "execution_count": 16,
     "metadata": {},
     "output_type": "execute_result"
    }
   ],
   "source": [
    "m"
   ]
  },
  {
   "cell_type": "code",
   "execution_count": 19,
   "id": "b6b3f0a7",
   "metadata": {},
   "outputs": [
    {
     "data": {
      "text/plain": [
       "[[7, 8, 9, 10], [5, 6, 7], [1, 2, 3]]"
      ]
     },
     "execution_count": 19,
     "metadata": {},
     "output_type": "execute_result"
    }
   ],
   "source": [
    "d"
   ]
  },
  {
   "cell_type": "code",
   "execution_count": 20,
   "id": "0e369e50",
   "metadata": {},
   "outputs": [],
   "source": [
    "d = d[::-1]\n"
   ]
  },
  {
   "cell_type": "code",
   "execution_count": 21,
   "id": "5fbdf0aa",
   "metadata": {},
   "outputs": [
    {
     "data": {
      "text/plain": [
       "[[1, 2, 3], [5, 6, 7], [7, 8, 9, 10]]"
      ]
     },
     "execution_count": 21,
     "metadata": {},
     "output_type": "execute_result"
    }
   ],
   "source": [
    "d"
   ]
  },
  {
   "cell_type": "code",
   "execution_count": 23,
   "id": "f3353c20",
   "metadata": {},
   "outputs": [
    {
     "data": {
      "text/plain": [
       "[[3, 2, 1], [7, 6, 5], [10, 9, 8, 7]]"
      ]
     },
     "execution_count": 23,
     "metadata": {},
     "output_type": "execute_result"
    }
   ],
   "source": [
    "m= []\n",
    "\n",
    "for x in d:\n",
    "    m.append(x[::-1])\n",
    "    \n",
    "m"
   ]
  },
  {
   "cell_type": "code",
   "execution_count": 24,
   "id": "d74a8a19",
   "metadata": {},
   "outputs": [
    {
     "data": {
      "text/plain": [
       "[2, 6, 9]"
      ]
     },
     "execution_count": 24,
     "metadata": {},
     "output_type": "execute_result"
    }
   ],
   "source": [
    "k = []\n",
    "\n",
    "for i in m:\n",
    "    k.append(i[1])\n",
    "    \n",
    "k"
   ]
  },
  {
   "cell_type": "code",
   "execution_count": 26,
   "id": "3f9a1887",
   "metadata": {},
   "outputs": [
    {
     "data": {
      "text/plain": [
       "[4, 12, 18]"
      ]
     },
     "execution_count": 26,
     "metadata": {},
     "output_type": "execute_result"
    }
   ],
   "source": [
    "k = [i[1]*2 for i in m ]\n",
    "k"
   ]
  },
  {
   "cell_type": "code",
   "execution_count": 28,
   "id": "3b08d4f1",
   "metadata": {},
   "outputs": [],
   "source": [
    "r = [1,2,3,[4,5,6],[7,8,9],[10,11,12,[2,3,[\"@\",3,5],7,8,0]]]"
   ]
  },
  {
   "cell_type": "code",
   "execution_count": 29,
   "id": "bd62310f",
   "metadata": {},
   "outputs": [
    {
     "data": {
      "text/plain": [
       "[10, 11, 12, [2, 3, ['@', 3, 5], 7, 8, 0]]"
      ]
     },
     "execution_count": 29,
     "metadata": {},
     "output_type": "execute_result"
    }
   ],
   "source": [
    "r[5]"
   ]
  },
  {
   "cell_type": "code",
   "execution_count": 30,
   "id": "e15ee914",
   "metadata": {},
   "outputs": [
    {
     "data": {
      "text/plain": [
       "[2, 3, ['@', 3, 5], 7, 8, 0]"
      ]
     },
     "execution_count": 30,
     "metadata": {},
     "output_type": "execute_result"
    }
   ],
   "source": [
    "r[5][3]"
   ]
  },
  {
   "cell_type": "code",
   "execution_count": 31,
   "id": "cf23bac6",
   "metadata": {},
   "outputs": [
    {
     "data": {
      "text/plain": [
       "'@'"
      ]
     },
     "execution_count": 31,
     "metadata": {},
     "output_type": "execute_result"
    }
   ],
   "source": [
    "r[5][3][2][0]"
   ]
  },
  {
   "cell_type": "code",
   "execution_count": 34,
   "id": "e8b57f7f",
   "metadata": {},
   "outputs": [
    {
     "ename": "TypeError",
     "evalue": "'int' object is not subscriptable",
     "output_type": "error",
     "traceback": [
      "\u001b[1;31m---------------------------------------------------------------------------\u001b[0m",
      "\u001b[1;31mTypeError\u001b[0m                                 Traceback (most recent call last)",
      "\u001b[1;32m<ipython-input-34-a83bd8c9e8de>\u001b[0m in \u001b[0;36m<module>\u001b[1;34m\u001b[0m\n\u001b[1;32m----> 1\u001b[1;33m \u001b[0mt\u001b[0m \u001b[1;33m=\u001b[0m \u001b[1;33m[\u001b[0m\u001b[0mr\u001b[0m\u001b[1;33m[\u001b[0m\u001b[0mi\u001b[0m\u001b[1;33m]\u001b[0m\u001b[1;33m[\u001b[0m\u001b[0mj\u001b[0m\u001b[1;33m]\u001b[0m\u001b[1;33m[\u001b[0m\u001b[0mk\u001b[0m\u001b[1;33m]\u001b[0m\u001b[1;33m[\u001b[0m\u001b[0ml\u001b[0m\u001b[1;33m]\u001b[0m \u001b[1;32mfor\u001b[0m \u001b[0mi\u001b[0m \u001b[1;32min\u001b[0m \u001b[0mr\u001b[0m \u001b[1;32mfor\u001b[0m \u001b[0mj\u001b[0m \u001b[1;32min\u001b[0m \u001b[0mr\u001b[0m \u001b[1;32mfor\u001b[0m \u001b[0mk\u001b[0m \u001b[1;32min\u001b[0m \u001b[0mr\u001b[0m \u001b[1;32mfor\u001b[0m \u001b[0ml\u001b[0m \u001b[1;32min\u001b[0m \u001b[0mr\u001b[0m \u001b[1;32mif\u001b[0m \u001b[0mr\u001b[0m\u001b[1;33m[\u001b[0m\u001b[0mi\u001b[0m\u001b[1;33m]\u001b[0m\u001b[1;33m[\u001b[0m\u001b[0mj\u001b[0m\u001b[1;33m]\u001b[0m\u001b[1;33m[\u001b[0m\u001b[0mk\u001b[0m\u001b[1;33m]\u001b[0m\u001b[1;33m[\u001b[0m\u001b[0ml\u001b[0m\u001b[1;33m]\u001b[0m \u001b[1;33m==\u001b[0m\u001b[1;34m\"@\"\u001b[0m\u001b[1;33m]\u001b[0m\u001b[1;33m\u001b[0m\u001b[1;33m\u001b[0m\u001b[0m\n\u001b[0m\u001b[0;32m      2\u001b[0m \u001b[0mt\u001b[0m\u001b[1;33m\u001b[0m\u001b[1;33m\u001b[0m\u001b[0m\n",
      "\u001b[1;32m<ipython-input-34-a83bd8c9e8de>\u001b[0m in \u001b[0;36m<listcomp>\u001b[1;34m(.0)\u001b[0m\n\u001b[1;32m----> 1\u001b[1;33m \u001b[0mt\u001b[0m \u001b[1;33m=\u001b[0m \u001b[1;33m[\u001b[0m\u001b[0mr\u001b[0m\u001b[1;33m[\u001b[0m\u001b[0mi\u001b[0m\u001b[1;33m]\u001b[0m\u001b[1;33m[\u001b[0m\u001b[0mj\u001b[0m\u001b[1;33m]\u001b[0m\u001b[1;33m[\u001b[0m\u001b[0mk\u001b[0m\u001b[1;33m]\u001b[0m\u001b[1;33m[\u001b[0m\u001b[0ml\u001b[0m\u001b[1;33m]\u001b[0m \u001b[1;32mfor\u001b[0m \u001b[0mi\u001b[0m \u001b[1;32min\u001b[0m \u001b[0mr\u001b[0m \u001b[1;32mfor\u001b[0m \u001b[0mj\u001b[0m \u001b[1;32min\u001b[0m \u001b[0mr\u001b[0m \u001b[1;32mfor\u001b[0m \u001b[0mk\u001b[0m \u001b[1;32min\u001b[0m \u001b[0mr\u001b[0m \u001b[1;32mfor\u001b[0m \u001b[0ml\u001b[0m \u001b[1;32min\u001b[0m \u001b[0mr\u001b[0m \u001b[1;32mif\u001b[0m \u001b[0mr\u001b[0m\u001b[1;33m[\u001b[0m\u001b[0mi\u001b[0m\u001b[1;33m]\u001b[0m\u001b[1;33m[\u001b[0m\u001b[0mj\u001b[0m\u001b[1;33m]\u001b[0m\u001b[1;33m[\u001b[0m\u001b[0mk\u001b[0m\u001b[1;33m]\u001b[0m\u001b[1;33m[\u001b[0m\u001b[0ml\u001b[0m\u001b[1;33m]\u001b[0m \u001b[1;33m==\u001b[0m\u001b[1;34m\"@\"\u001b[0m\u001b[1;33m]\u001b[0m\u001b[1;33m\u001b[0m\u001b[1;33m\u001b[0m\u001b[0m\n\u001b[0m\u001b[0;32m      2\u001b[0m \u001b[0mt\u001b[0m\u001b[1;33m\u001b[0m\u001b[1;33m\u001b[0m\u001b[0m\n",
      "\u001b[1;31mTypeError\u001b[0m: 'int' object is not subscriptable"
     ]
    }
   ],
   "source": [
    "t = [r[i][j][k][l] for i in r for j in r for k in r for l in r if r[i][j][k][l] ==\"@\"]\n",
    "t"
   ]
  },
  {
   "cell_type": "code",
   "execution_count": 35,
   "id": "2a4c2a15",
   "metadata": {},
   "outputs": [
    {
     "data": {
      "text/plain": [
       "[1, 2, 3, [4, 5, 6], [7, 8, 9], [10, 11, 12, [2, 3, ['@', 3, 5], 7, 8, 0]]]"
      ]
     },
     "execution_count": 35,
     "metadata": {},
     "output_type": "execute_result"
    }
   ],
   "source": [
    "r"
   ]
  },
  {
   "cell_type": "code",
   "execution_count": 38,
   "id": "b4b15e95",
   "metadata": {},
   "outputs": [
    {
     "ename": "ValueError",
     "evalue": "5 is not in list",
     "output_type": "error",
     "traceback": [
      "\u001b[1;31m---------------------------------------------------------------------------\u001b[0m",
      "\u001b[1;31mValueError\u001b[0m                                Traceback (most recent call last)",
      "\u001b[1;32m<ipython-input-38-95b318c6c3f9>\u001b[0m in \u001b[0;36m<module>\u001b[1;34m\u001b[0m\n\u001b[1;32m----> 1\u001b[1;33m \u001b[0mr\u001b[0m\u001b[1;33m.\u001b[0m\u001b[0mindex\u001b[0m\u001b[1;33m(\u001b[0m\u001b[1;36m5\u001b[0m\u001b[1;33m)\u001b[0m\u001b[1;33m\u001b[0m\u001b[1;33m\u001b[0m\u001b[0m\n\u001b[0m",
      "\u001b[1;31mValueError\u001b[0m: 5 is not in list"
     ]
    }
   ],
   "source": [
    "r.index(5)"
   ]
  },
  {
   "cell_type": "code",
   "execution_count": 39,
   "id": "4bf4ed2c",
   "metadata": {},
   "outputs": [
    {
     "data": {
      "text/plain": [
       "[1, 2, 3, [4, 5, 6], [7, 8, 9], [10, 11, 12, [2, 3, ['@', 3, 5], 7, 8, 0]]]"
      ]
     },
     "execution_count": 39,
     "metadata": {},
     "output_type": "execute_result"
    }
   ],
   "source": [
    "r"
   ]
  },
  {
   "cell_type": "code",
   "execution_count": 43,
   "id": "9a5e664d",
   "metadata": {},
   "outputs": [
    {
     "ename": "IndentationError",
     "evalue": "expected an indented block (<ipython-input-43-6c174f383eed>, line 6)",
     "output_type": "error",
     "traceback": [
      "\u001b[1;36m  File \u001b[1;32m\"<ipython-input-43-6c174f383eed>\"\u001b[1;36m, line \u001b[1;32m6\u001b[0m\n\u001b[1;33m    i.remove(\"@\")\u001b[0m\n\u001b[1;37m    ^\u001b[0m\n\u001b[1;31mIndentationError\u001b[0m\u001b[1;31m:\u001b[0m expected an indented block\n"
     ]
    }
   ],
   "source": [
    "for i in r:\n",
    "    if i==\"@\":\n",
    "        r.remove(\"@\")\n",
    "    elif type(i) ==list:\n",
    "        if i==\"@\":\n",
    "        i.remove(\"@\")\n",
    "    elif type(i) ==list:\n",
    "        if i==\"@\":\n",
    "        i.remove(\"@\")\n",
    "    elif type(i) ==list:\n",
    "        if i==\"@\":\n",
    "        i.remove(\"@\")\n",
    "    elif type(i) ==list:\n",
    "        if i==\"@\":\n",
    "        i.remove(\"@\")\n",
    "    elif type(i) ==list:\n",
    "        if i==\"@\":\n",
    "        i.remove(\"@\")\n",
    "r"
   ]
  },
  {
   "cell_type": "code",
   "execution_count": 51,
   "id": "468bd82c",
   "metadata": {},
   "outputs": [
    {
     "data": {
      "text/plain": [
       "[3.0, 6.0, 8.0]"
      ]
     },
     "execution_count": 51,
     "metadata": {},
     "output_type": "execute_result"
    }
   ],
   "source": [
    " [m/2 for m in [i[2]*2 for i in [[1,2,3],[4,5,6,7],[6,7,8,9,8,9,10]]]]"
   ]
  },
  {
   "cell_type": "code",
   "execution_count": null,
   "id": "881ea7d8",
   "metadata": {},
   "outputs": [],
   "source": []
  },
  {
   "cell_type": "code",
   "execution_count": 58,
   "id": "8b4d01ba",
   "metadata": {},
   "outputs": [
    {
     "name": "stdout",
     "output_type": "stream",
     "text": [
      "*\n",
      "*\n",
      "*\n",
      "*\n",
      "*\n",
      "*\n",
      "*\n",
      "*\n",
      "*\n",
      "*\n",
      "*\n",
      "*\n",
      "*\n",
      "*\n",
      "*\n",
      "*\n",
      "*\n",
      "*\n",
      "*\n",
      "*\n",
      "*\n",
      "*\n",
      "*\n",
      "*\n",
      "*\n",
      "*\n",
      "*\n",
      "*\n",
      "*\n",
      "*\n",
      "*\n",
      "*\n",
      "*\n",
      "*\n",
      "*\n",
      "*\n",
      "*\n",
      "*\n",
      "*\n",
      "*\n",
      "*\n",
      "*\n",
      "*\n",
      "*\n",
      "*\n"
     ]
    }
   ],
   "source": [
    "for i in range(10):\n",
    "       for j in range(0,j):\n",
    "            print(\"*\")"
   ]
  },
  {
   "cell_type": "code",
   "execution_count": 7,
   "id": "45e5e9a9",
   "metadata": {},
   "outputs": [
    {
     "ename": "TypeError",
     "evalue": "The fill character must be exactly one character long",
     "output_type": "error",
     "traceback": [
      "\u001b[1;31m---------------------------------------------------------------------------\u001b[0m",
      "\u001b[1;31mTypeError\u001b[0m                                 Traceback (most recent call last)",
      "\u001b[1;32m<ipython-input-7-b12c99a8412b>\u001b[0m in \u001b[0;36m<module>\u001b[1;34m\u001b[0m\n\u001b[0;32m      3\u001b[0m \u001b[1;32mfor\u001b[0m \u001b[0mi\u001b[0m \u001b[1;32min\u001b[0m \u001b[0mrange\u001b[0m\u001b[1;33m(\u001b[0m\u001b[1;36m0\u001b[0m\u001b[1;33m,\u001b[0m\u001b[1;36m11\u001b[0m\u001b[1;33m)\u001b[0m\u001b[1;33m:\u001b[0m\u001b[1;33m\u001b[0m\u001b[1;33m\u001b[0m\u001b[0m\n\u001b[0;32m      4\u001b[0m     \u001b[1;32mfor\u001b[0m \u001b[0mj\u001b[0m \u001b[1;32min\u001b[0m \u001b[0mrange\u001b[0m\u001b[1;33m(\u001b[0m\u001b[1;36m5\u001b[0m\u001b[1;33m,\u001b[0m\u001b[1;36m0\u001b[0m\u001b[1;33m,\u001b[0m\u001b[1;33m-\u001b[0m\u001b[1;36m1\u001b[0m\u001b[1;33m)\u001b[0m\u001b[1;33m:\u001b[0m\u001b[1;33m\u001b[0m\u001b[1;33m\u001b[0m\u001b[0m\n\u001b[1;32m----> 5\u001b[1;33m         \u001b[0mprint\u001b[0m\u001b[1;33m(\u001b[0m\u001b[0ma\u001b[0m\u001b[1;33m.\u001b[0m\u001b[0mcenter\u001b[0m\u001b[1;33m(\u001b[0m\u001b[1;36m5\u001b[0m\u001b[1;33m,\u001b[0m\u001b[0ma\u001b[0m\u001b[1;33m*\u001b[0m\u001b[0mi\u001b[0m\u001b[1;33m)\u001b[0m\u001b[1;33m)\u001b[0m\u001b[1;33m\u001b[0m\u001b[1;33m\u001b[0m\u001b[0m\n\u001b[0m",
      "\u001b[1;31mTypeError\u001b[0m: The fill character must be exactly one character long"
     ]
    }
   ],
   "source": [
    "a = \"*\"\n",
    "\n",
    "for i in range(0,11):\n",
    "    for j in range(5,0,-1):\n",
    "        print(a.center(5,a*i))"
   ]
  },
  {
   "cell_type": "code",
   "execution_count": 8,
   "id": "10e1f44a",
   "metadata": {},
   "outputs": [
    {
     "data": {
      "text/plain": [
       "(1, 2, 3, 4, 2, 32, 3, 2, 3, 3)"
      ]
     },
     "execution_count": 8,
     "metadata": {},
     "output_type": "execute_result"
    }
   ],
   "source": [
    "a = (1,2,3,4,2,32,3,2,3,3)\n",
    "a"
   ]
  },
  {
   "cell_type": "code",
   "execution_count": 11,
   "id": "4346b48f",
   "metadata": {},
   "outputs": [
    {
     "data": {
      "text/plain": [
       "(3, 3, 2, 3, 32, 2, 4, 3, 2, 1)"
      ]
     },
     "execution_count": 11,
     "metadata": {},
     "output_type": "execute_result"
    }
   ],
   "source": [
    "a[::-1]"
   ]
  },
  {
   "cell_type": "code",
   "execution_count": 12,
   "id": "48a92e56",
   "metadata": {},
   "outputs": [
    {
     "data": {
      "text/plain": [
       "3"
      ]
     },
     "execution_count": 12,
     "metadata": {},
     "output_type": "execute_result"
    }
   ],
   "source": [
    "a.count(2)"
   ]
  },
  {
   "cell_type": "code",
   "execution_count": 15,
   "id": "382adac9",
   "metadata": {},
   "outputs": [
    {
     "data": {
      "text/plain": [
       "5"
      ]
     },
     "execution_count": 15,
     "metadata": {},
     "output_type": "execute_result"
    }
   ],
   "source": [
    "a.index(32)"
   ]
  },
  {
   "cell_type": "code",
   "execution_count": 16,
   "id": "5cf489ed",
   "metadata": {},
   "outputs": [
    {
     "ename": "TypeError",
     "evalue": "'tuple' object does not support item assignment",
     "output_type": "error",
     "traceback": [
      "\u001b[1;31m---------------------------------------------------------------------------\u001b[0m",
      "\u001b[1;31mTypeError\u001b[0m                                 Traceback (most recent call last)",
      "\u001b[1;32m<ipython-input-16-33872b7931e7>\u001b[0m in \u001b[0;36m<module>\u001b[1;34m\u001b[0m\n\u001b[1;32m----> 1\u001b[1;33m \u001b[0ma\u001b[0m\u001b[1;33m[\u001b[0m\u001b[1;36m0\u001b[0m\u001b[1;33m]\u001b[0m \u001b[1;33m=\u001b[0m \u001b[1;36m5\u001b[0m\u001b[1;33m\u001b[0m\u001b[1;33m\u001b[0m\u001b[0m\n\u001b[0m",
      "\u001b[1;31mTypeError\u001b[0m: 'tuple' object does not support item assignment"
     ]
    }
   ],
   "source": [
    "a[0] = 5"
   ]
  },
  {
   "cell_type": "code",
   "execution_count": 17,
   "id": "59a64df7",
   "metadata": {},
   "outputs": [
    {
     "data": {
      "text/plain": [
       "(1, 2, 3, 4, 2, 32, 3, 2, 3, 3)"
      ]
     },
     "execution_count": 17,
     "metadata": {},
     "output_type": "execute_result"
    }
   ],
   "source": [
    "a"
   ]
  },
  {
   "cell_type": "code",
   "execution_count": 21,
   "id": "cc08ee38",
   "metadata": {},
   "outputs": [
    {
     "name": "stdout",
     "output_type": "stream",
     "text": [
      "1\n",
      "2\n",
      "3\n",
      "4\n",
      "2\n",
      "32\n",
      "3\n",
      "2\n",
      "3\n",
      "3\n"
     ]
    }
   ],
   "source": [
    "for i in a:\n",
    "    print(i)"
   ]
  },
  {
   "cell_type": "code",
   "execution_count": 23,
   "id": "052d45b2",
   "metadata": {},
   "outputs": [
    {
     "data": {
      "text/plain": [
       "[1, 2, 3, 4, 45, 5, 6]"
      ]
     },
     "execution_count": 23,
     "metadata": {},
     "output_type": "execute_result"
    }
   ],
   "source": [
    "l = [1,2,3,4,45,5,6]\n",
    "l"
   ]
  },
  {
   "cell_type": "code",
   "execution_count": 24,
   "id": "d528e63c",
   "metadata": {},
   "outputs": [
    {
     "data": {
      "text/plain": [
       "1"
      ]
     },
     "execution_count": 24,
     "metadata": {},
     "output_type": "execute_result"
    }
   ],
   "source": [
    "l.count(2)"
   ]
  },
  {
   "cell_type": "code",
   "execution_count": 25,
   "id": "eeceb8bd",
   "metadata": {},
   "outputs": [
    {
     "data": {
      "text/plain": [
       "(1, 2, 3, 4, 2, 32, 3, 2, 3, 3)"
      ]
     },
     "execution_count": 25,
     "metadata": {},
     "output_type": "execute_result"
    }
   ],
   "source": [
    "a"
   ]
  },
  {
   "cell_type": "code",
   "execution_count": 26,
   "id": "f96b529b",
   "metadata": {},
   "outputs": [
    {
     "data": {
      "text/plain": [
       "tuple"
      ]
     },
     "execution_count": 26,
     "metadata": {},
     "output_type": "execute_result"
    }
   ],
   "source": [
    "type(a)"
   ]
  },
  {
   "cell_type": "code",
   "execution_count": 28,
   "id": "5054576a",
   "metadata": {},
   "outputs": [
    {
     "data": {
      "text/plain": [
       "2"
      ]
     },
     "execution_count": 28,
     "metadata": {},
     "output_type": "execute_result"
    }
   ],
   "source": [
    "a.index(3)"
   ]
  },
  {
   "cell_type": "code",
   "execution_count": 29,
   "id": "80f876c9",
   "metadata": {},
   "outputs": [
    {
     "data": {
      "text/plain": [
       "(1, 2, 3, 4, 2, 32, 3, 2, 3, 3, 11, 22, 33, 44)"
      ]
     },
     "execution_count": 29,
     "metadata": {},
     "output_type": "execute_result"
    }
   ],
   "source": [
    "b = (11,22,33,44)\n",
    "a+b"
   ]
  },
  {
   "cell_type": "code",
   "execution_count": 30,
   "id": "1b5e6b2c",
   "metadata": {},
   "outputs": [],
   "source": [
    "a =\"Rohit\""
   ]
  },
  {
   "cell_type": "code",
   "execution_count": 31,
   "id": "0ea37af6",
   "metadata": {},
   "outputs": [],
   "source": [
    "b=[\"Rohit\"]"
   ]
  },
  {
   "cell_type": "code",
   "execution_count": 32,
   "id": "22ade63b",
   "metadata": {},
   "outputs": [],
   "source": [
    "c=(\"Rohit\")"
   ]
  },
  {
   "cell_type": "code",
   "execution_count": 33,
   "id": "03f4f61e",
   "metadata": {},
   "outputs": [],
   "source": [
    "d= set(\"Rohit\")"
   ]
  },
  {
   "cell_type": "code",
   "execution_count": 38,
   "id": "7765dcd8",
   "metadata": {},
   "outputs": [
    {
     "data": {
      "text/plain": [
       "'Rohit'"
      ]
     },
     "execution_count": 38,
     "metadata": {},
     "output_type": "execute_result"
    }
   ],
   "source": [
    "a"
   ]
  },
  {
   "cell_type": "code",
   "execution_count": 39,
   "id": "516420af",
   "metadata": {},
   "outputs": [
    {
     "data": {
      "text/plain": [
       "['Rohit']"
      ]
     },
     "execution_count": 39,
     "metadata": {},
     "output_type": "execute_result"
    }
   ],
   "source": [
    "b"
   ]
  },
  {
   "cell_type": "code",
   "execution_count": 40,
   "id": "bc9df533",
   "metadata": {},
   "outputs": [
    {
     "data": {
      "text/plain": [
       "'Rohit'"
      ]
     },
     "execution_count": 40,
     "metadata": {},
     "output_type": "execute_result"
    }
   ],
   "source": [
    "c"
   ]
  },
  {
   "cell_type": "code",
   "execution_count": 41,
   "id": "502fcb83",
   "metadata": {},
   "outputs": [
    {
     "data": {
      "text/plain": [
       "{'R', 'h', 'i', 'o', 't'}"
      ]
     },
     "execution_count": 41,
     "metadata": {},
     "output_type": "execute_result"
    }
   ],
   "source": [
    "d"
   ]
  },
  {
   "cell_type": "code",
   "execution_count": 42,
   "id": "a21c12ea",
   "metadata": {},
   "outputs": [],
   "source": [
    "d.add('l')"
   ]
  },
  {
   "cell_type": "code",
   "execution_count": 43,
   "id": "55ebfc7b",
   "metadata": {},
   "outputs": [
    {
     "data": {
      "text/plain": [
       "{'R', 'h', 'i', 'l', 'o', 't'}"
      ]
     },
     "execution_count": 43,
     "metadata": {},
     "output_type": "execute_result"
    }
   ],
   "source": [
    "d"
   ]
  },
  {
   "cell_type": "code",
   "execution_count": 44,
   "id": "ff357cfe",
   "metadata": {},
   "outputs": [
    {
     "data": {
      "text/plain": [
       "'t'"
      ]
     },
     "execution_count": 44,
     "metadata": {},
     "output_type": "execute_result"
    }
   ],
   "source": [
    "d.pop()"
   ]
  },
  {
   "cell_type": "code",
   "execution_count": 1,
   "id": "3f29139a",
   "metadata": {},
   "outputs": [],
   "source": [
    "a,b,c,d,e = \"Rohit\",[1,2,3,4,5],(11,22,33,44,55),{1,7,9,4,6},{\"k1\":31,\"k2\":50,\"k3\":[1,2,3,4,5]}"
   ]
  },
  {
   "cell_type": "code",
   "execution_count": 3,
   "id": "d6f66104",
   "metadata": {},
   "outputs": [
    {
     "name": "stdout",
     "output_type": "stream",
     "text": [
      "Rohit\n",
      "[1, 2, 3, 4, 5]\n",
      "(11, 22, 33, 44, 55)\n",
      "{1, 4, 6, 7, 9}\n",
      "{'k1': 31, 'k2': 50, 'k3': [1, 2, 3, 4, 5]}\n"
     ]
    }
   ],
   "source": [
    "print(a)\n",
    "print(b)\n",
    "print(c)\n",
    "print(d)\n",
    "print(e)"
   ]
  },
  {
   "cell_type": "code",
   "execution_count": 4,
   "id": "83461d77",
   "metadata": {},
   "outputs": [
    {
     "data": {
      "text/plain": [
       "1"
      ]
     },
     "execution_count": 4,
     "metadata": {},
     "output_type": "execute_result"
    }
   ],
   "source": [
    "b[0]"
   ]
  },
  {
   "cell_type": "code",
   "execution_count": 57,
   "id": "6202eb3b",
   "metadata": {},
   "outputs": [],
   "source": [
    "def is_prime(num):\n",
    "    for i in range(2,num):\n",
    "            if num%i == 0:\n",
    "                print(\"Given number is not prime number\")\n",
    "                break\n",
    "    else:\n",
    "        print(\"Given number is prime number\")\n",
    "            \n",
    "        "
   ]
  },
  {
   "cell_type": "code",
   "execution_count": 52,
   "id": "7d4f3088",
   "metadata": {},
   "outputs": [],
   "source": [
    "Is_prime(1)"
   ]
  },
  {
   "cell_type": "code",
   "execution_count": 50,
   "id": "a1391b54",
   "metadata": {},
   "outputs": [
    {
     "name": "stdout",
     "output_type": "stream",
     "text": [
      "Given number is not prime number\n"
     ]
    }
   ],
   "source": [
    "Is_prime(200)"
   ]
  },
  {
   "cell_type": "code",
   "execution_count": 63,
   "id": "57d392ba",
   "metadata": {},
   "outputs": [
    {
     "name": "stdout",
     "output_type": "stream",
     "text": [
      "Given number is not prime number\n"
     ]
    }
   ],
   "source": [
    "is_prime(57)"
   ]
  },
  {
   "cell_type": "code",
   "execution_count": 65,
   "id": "21d2c52a",
   "metadata": {},
   "outputs": [],
   "source": [
    "c = iter('rohit')"
   ]
  },
  {
   "cell_type": "code",
   "execution_count": 72,
   "id": "e1fe93b5",
   "metadata": {},
   "outputs": [
    {
     "ename": "StopIteration",
     "evalue": "",
     "output_type": "error",
     "traceback": [
      "\u001b[1;31m---------------------------------------------------------------------------\u001b[0m",
      "\u001b[1;31mStopIteration\u001b[0m                             Traceback (most recent call last)",
      "\u001b[1;32m<ipython-input-72-e846efec376d>\u001b[0m in \u001b[0;36m<module>\u001b[1;34m\u001b[0m\n\u001b[1;32m----> 1\u001b[1;33m \u001b[0mnext\u001b[0m\u001b[1;33m(\u001b[0m\u001b[0mc\u001b[0m\u001b[1;33m)\u001b[0m\u001b[1;33m\u001b[0m\u001b[1;33m\u001b[0m\u001b[0m\n\u001b[0m",
      "\u001b[1;31mStopIteration\u001b[0m: "
     ]
    }
   ],
   "source": [
    "next(c)"
   ]
  },
  {
   "cell_type": "code",
   "execution_count": 73,
   "id": "ae299b6e",
   "metadata": {},
   "outputs": [
    {
     "name": "stdout",
     "output_type": "stream",
     "text": [
      "R\n",
      "o\n",
      "h\n",
      "i\n",
      "t\n"
     ]
    }
   ],
   "source": [
    "for i in \"Rohit\":\n",
    "    print(i)"
   ]
  },
  {
   "cell_type": "code",
   "execution_count": 84,
   "id": "bd507196",
   "metadata": {},
   "outputs": [],
   "source": [
    "def gencube(n):\n",
    "    for i in range(n):\n",
    "        yield i**3"
   ]
  },
  {
   "cell_type": "code",
   "execution_count": 85,
   "id": "689e5bdb",
   "metadata": {},
   "outputs": [
    {
     "data": {
      "text/plain": [
       "<generator object gencube at 0x00000076AE5A0B30>"
      ]
     },
     "execution_count": 85,
     "metadata": {},
     "output_type": "execute_result"
    }
   ],
   "source": [
    "gencube(10)"
   ]
  },
  {
   "cell_type": "code",
   "execution_count": 86,
   "id": "ecf9f250",
   "metadata": {},
   "outputs": [
    {
     "name": "stdout",
     "output_type": "stream",
     "text": [
      "0\n",
      "1\n",
      "8\n",
      "27\n",
      "64\n",
      "125\n",
      "216\n",
      "343\n",
      "512\n",
      "729\n"
     ]
    }
   ],
   "source": [
    "for i in gencube(10):\n",
    "    print(i)"
   ]
  },
  {
   "cell_type": "code",
   "execution_count": 87,
   "id": "98fdafd6",
   "metadata": {},
   "outputs": [],
   "source": [
    "def gensquare(n):\n",
    "    for i in range(n):\n",
    "        yield i**2"
   ]
  },
  {
   "cell_type": "code",
   "execution_count": null,
   "id": "9adf6979",
   "metadata": {},
   "outputs": [],
   "source": []
  },
  {
   "cell_type": "code",
   "execution_count": 88,
   "id": "9e11f477",
   "metadata": {},
   "outputs": [
    {
     "data": {
      "text/plain": [
       "<generator object gensquare at 0x00000076AE9479E0>"
      ]
     },
     "execution_count": 88,
     "metadata": {},
     "output_type": "execute_result"
    }
   ],
   "source": [
    "gensquare(10)"
   ]
  },
  {
   "cell_type": "code",
   "execution_count": 89,
   "id": "df30e5e2",
   "metadata": {},
   "outputs": [
    {
     "name": "stdout",
     "output_type": "stream",
     "text": [
      "0\n",
      "1\n",
      "4\n",
      "9\n",
      "16\n",
      "25\n",
      "36\n",
      "49\n",
      "64\n",
      "81\n"
     ]
    }
   ],
   "source": [
    "for i in gensquare(10):\n",
    "        print(i)"
   ]
  },
  {
   "cell_type": "code",
   "execution_count": 90,
   "id": "e8df91b5",
   "metadata": {},
   "outputs": [],
   "source": [
    "l = [1,2,3,4,5,6,6]"
   ]
  },
  {
   "cell_type": "code",
   "execution_count": 92,
   "id": "2f912bcc",
   "metadata": {},
   "outputs": [],
   "source": [
    "l = iter(l)"
   ]
  },
  {
   "cell_type": "code",
   "execution_count": 100,
   "id": "83d4cf6e",
   "metadata": {},
   "outputs": [
    {
     "ename": "StopIteration",
     "evalue": "",
     "output_type": "error",
     "traceback": [
      "\u001b[1;31m---------------------------------------------------------------------------\u001b[0m",
      "\u001b[1;31mStopIteration\u001b[0m                             Traceback (most recent call last)",
      "\u001b[1;32m<ipython-input-100-cdc8a39da60d>\u001b[0m in \u001b[0;36m<module>\u001b[1;34m\u001b[0m\n\u001b[1;32m----> 1\u001b[1;33m \u001b[0mnext\u001b[0m\u001b[1;33m(\u001b[0m\u001b[0ml\u001b[0m\u001b[1;33m)\u001b[0m\u001b[1;33m\u001b[0m\u001b[1;33m\u001b[0m\u001b[0m\n\u001b[0m",
      "\u001b[1;31mStopIteration\u001b[0m: "
     ]
    }
   ],
   "source": [
    "next(l)"
   ]
  },
  {
   "cell_type": "code",
   "execution_count": 103,
   "id": "f8562e67",
   "metadata": {},
   "outputs": [
    {
     "data": {
      "text/plain": [
       "[]"
      ]
     },
     "execution_count": 103,
     "metadata": {},
     "output_type": "execute_result"
    }
   ],
   "source": [
    "l = list(l)\n",
    "l"
   ]
  },
  {
   "cell_type": "code",
   "execution_count": 137,
   "id": "20ecfdb7",
   "metadata": {},
   "outputs": [],
   "source": [
    "l = [1,2,3,4,5,6,6]"
   ]
  },
  {
   "cell_type": "code",
   "execution_count": 128,
   "id": "af92954d",
   "metadata": {},
   "outputs": [],
   "source": [
    "def square(m):\n",
    "    return m**2"
   ]
  },
  {
   "cell_type": "code",
   "execution_count": 129,
   "id": "45b1c260",
   "metadata": {},
   "outputs": [
    {
     "data": {
      "text/plain": [
       "49"
      ]
     },
     "execution_count": 129,
     "metadata": {},
     "output_type": "execute_result"
    }
   ],
   "source": [
    "square(7)"
   ]
  },
  {
   "cell_type": "code",
   "execution_count": 131,
   "id": "a71a185b",
   "metadata": {},
   "outputs": [
    {
     "data": {
      "text/plain": [
       "[1, 4, 9, 16, 25, 36, 36]"
      ]
     },
     "execution_count": 131,
     "metadata": {},
     "output_type": "execute_result"
    }
   ],
   "source": [
    "list(map(square,l))"
   ]
  },
  {
   "cell_type": "code",
   "execution_count": 139,
   "id": "5bad6127",
   "metadata": {},
   "outputs": [
    {
     "data": {
      "text/plain": [
       "[1, 2, 3, 4, 5, 6, 6]"
      ]
     },
     "execution_count": 139,
     "metadata": {},
     "output_type": "execute_result"
    }
   ],
   "source": [
    "l"
   ]
  },
  {
   "cell_type": "code",
   "execution_count": 145,
   "id": "934db823",
   "metadata": {},
   "outputs": [
    {
     "data": {
      "text/plain": [
       "27"
      ]
     },
     "execution_count": 145,
     "metadata": {},
     "output_type": "execute_result"
    }
   ],
   "source": [
    "from functools import reduce\n",
    "reduce(lambda x,y:x+y, l)"
   ]
  },
  {
   "cell_type": "code",
   "execution_count": null,
   "id": "a8e7f991",
   "metadata": {},
   "outputs": [],
   "source": []
  },
  {
   "cell_type": "code",
   "execution_count": null,
   "id": "141980a6",
   "metadata": {},
   "outputs": [],
   "source": []
  },
  {
   "cell_type": "code",
   "execution_count": null,
   "id": "4a1650dc",
   "metadata": {},
   "outputs": [],
   "source": []
  },
  {
   "cell_type": "code",
   "execution_count": 134,
   "id": "c322638c",
   "metadata": {},
   "outputs": [
    {
     "data": {
      "text/plain": [
       "[1, 4, 9, 16, 25, 36, 36]"
      ]
     },
     "execution_count": 134,
     "metadata": {},
     "output_type": "execute_result"
    }
   ],
   "source": [
    "list(map(lambda x:x**2,l))"
   ]
  },
  {
   "cell_type": "code",
   "execution_count": null,
   "id": "c80b9cca",
   "metadata": {},
   "outputs": [],
   "source": []
  },
  {
   "cell_type": "code",
   "execution_count": 125,
   "id": "32c6a3bb",
   "metadata": {},
   "outputs": [],
   "source": [
    "def genfib(num):\n",
    "    a = 0\n",
    "    b = 1\n",
    "    for i in range(num):    \n",
    "        print(a)\n",
    "        a,b = b, a+b"
   ]
  },
  {
   "cell_type": "code",
   "execution_count": 126,
   "id": "c5a973fd",
   "metadata": {},
   "outputs": [
    {
     "name": "stdout",
     "output_type": "stream",
     "text": [
      "0\n",
      "1\n",
      "1\n",
      "2\n",
      "3\n",
      "5\n",
      "8\n",
      "13\n",
      "21\n",
      "34\n"
     ]
    }
   ],
   "source": [
    "\n",
    "genfib(10)"
   ]
  },
  {
   "cell_type": "code",
   "execution_count": 142,
   "id": "05db5cf5",
   "metadata": {},
   "outputs": [],
   "source": [
    "def add(a,b):\n",
    "    return a+b"
   ]
  },
  {
   "cell_type": "code",
   "execution_count": 144,
   "id": "bc7c3a02",
   "metadata": {},
   "outputs": [
    {
     "data": {
      "text/plain": [
       "27"
      ]
     },
     "execution_count": 144,
     "metadata": {},
     "output_type": "execute_result"
    }
   ],
   "source": [
    "reduce(add,l)"
   ]
  },
  {
   "cell_type": "code",
   "execution_count": 148,
   "id": "bc4c8883",
   "metadata": {},
   "outputs": [
    {
     "data": {
      "text/plain": [
       "[4, 5, 6, 6]"
      ]
     },
     "execution_count": 148,
     "metadata": {},
     "output_type": "execute_result"
    }
   ],
   "source": [
    "list(filter(lambda x,y=3:x>y,l))"
   ]
  },
  {
   "cell_type": "code",
   "execution_count": 149,
   "id": "feb58cef",
   "metadata": {},
   "outputs": [],
   "source": [
    "def maxof3(a,b,c):\n",
    "    d = max(a,b,c)\n",
    "    return d"
   ]
  },
  {
   "cell_type": "code",
   "execution_count": 150,
   "id": "35e431b0",
   "metadata": {},
   "outputs": [
    {
     "data": {
      "text/plain": [
       "9"
      ]
     },
     "execution_count": 150,
     "metadata": {},
     "output_type": "execute_result"
    }
   ],
   "source": [
    "maxof3(7,8,9)"
   ]
  },
  {
   "cell_type": "code",
   "execution_count": 151,
   "id": "067a64d3",
   "metadata": {},
   "outputs": [],
   "source": [
    "l = [8, 2, 3, 0, 7]"
   ]
  },
  {
   "cell_type": "code",
   "execution_count": 155,
   "id": "1ab3d126",
   "metadata": {},
   "outputs": [],
   "source": [
    "l1 = [8, 2, 3, -1, 7]"
   ]
  },
  {
   "cell_type": "code",
   "execution_count": 156,
   "id": "f783c83e",
   "metadata": {},
   "outputs": [
    {
     "data": {
      "text/plain": [
       "-336"
      ]
     },
     "execution_count": 156,
     "metadata": {},
     "output_type": "execute_result"
    }
   ],
   "source": [
    "reduce(lambda x,y:x*y,l1)"
   ]
  },
  {
   "cell_type": "code",
   "execution_count": null,
   "id": "adddc22e",
   "metadata": {},
   "outputs": [],
   "source": []
  },
  {
   "cell_type": "code",
   "execution_count": 154,
   "id": "88c2a9b2",
   "metadata": {},
   "outputs": [
    {
     "data": {
      "text/plain": [
       "20"
      ]
     },
     "execution_count": 154,
     "metadata": {},
     "output_type": "execute_result"
    }
   ],
   "source": [
    "reduce(add,l)"
   ]
  },
  {
   "cell_type": "code",
   "execution_count": 157,
   "id": "0e930f66",
   "metadata": {},
   "outputs": [
    {
     "data": {
      "text/plain": [
       "30"
      ]
     },
     "execution_count": 157,
     "metadata": {},
     "output_type": "execute_result"
    }
   ],
   "source": [
    "a=10\n",
    "b=20\n",
    "\n",
    "a+b"
   ]
  },
  {
   "cell_type": "code",
   "execution_count": 186,
   "id": "3cd2f8c1",
   "metadata": {},
   "outputs": [],
   "source": [
    "class person:\n",
    "    def __init__(self,name,surname,yob):\n",
    "        self.name = name\n",
    "        self.surname = surname\n",
    "        self.yob = yob\n",
    "    \n",
    "    def test(self, n,m):\n",
    "        return n + m + self.yob\n",
    "        \n",
    "    def __str__(self):\n",
    "        return \"My name is %s and surname is %s and DOB is %d\" %(self.name,self.surname,self.yob)"
   ]
  },
  {
   "cell_type": "code",
   "execution_count": 187,
   "id": "86609396",
   "metadata": {},
   "outputs": [],
   "source": [
    "p = person(\"Rohit\",\"Polas\",7101990)"
   ]
  },
  {
   "cell_type": "code",
   "execution_count": 162,
   "id": "70f79931",
   "metadata": {},
   "outputs": [
    {
     "data": {
      "text/plain": [
       "7101990"
      ]
     },
     "execution_count": 162,
     "metadata": {},
     "output_type": "execute_result"
    }
   ],
   "source": [
    "p.yob"
   ]
  },
  {
   "cell_type": "code",
   "execution_count": 188,
   "id": "8c72d70a",
   "metadata": {},
   "outputs": [],
   "source": [
    "r = person(\"Rahul\",\"Polas\",24041994)"
   ]
  },
  {
   "cell_type": "code",
   "execution_count": 166,
   "id": "24d0636d",
   "metadata": {},
   "outputs": [
    {
     "data": {
      "text/plain": [
       "24041994"
      ]
     },
     "execution_count": 166,
     "metadata": {},
     "output_type": "execute_result"
    }
   ],
   "source": [
    "r.yob"
   ]
  },
  {
   "cell_type": "code",
   "execution_count": 176,
   "id": "3e5d92d7",
   "metadata": {},
   "outputs": [
    {
     "name": "stdout",
     "output_type": "stream",
     "text": [
      "<__main__.person object at 0x00000076AF0DDB50>\n"
     ]
    }
   ],
   "source": [
    "print(p)"
   ]
  },
  {
   "cell_type": "code",
   "execution_count": 185,
   "id": "a799f5fc",
   "metadata": {},
   "outputs": [
    {
     "data": {
      "text/plain": [
       "24042004"
      ]
     },
     "execution_count": 185,
     "metadata": {},
     "output_type": "execute_result"
    }
   ],
   "source": [
    "r.test(4,6)"
   ]
  },
  {
   "cell_type": "code",
   "execution_count": 191,
   "id": "bf3965c1",
   "metadata": {},
   "outputs": [
    {
     "name": "stdout",
     "output_type": "stream",
     "text": [
      "My name is Rohit and surname is Polas and DOB is 7101990\n"
     ]
    }
   ],
   "source": [
    "print(p)"
   ]
  },
  {
   "cell_type": "code",
   "execution_count": 192,
   "id": "9b1d1f0a",
   "metadata": {},
   "outputs": [
    {
     "name": "stdout",
     "output_type": "stream",
     "text": [
      "My name is Rahul and surname is Polas and DOB is 24041994\n"
     ]
    }
   ],
   "source": [
    "print(r)"
   ]
  },
  {
   "cell_type": "code",
   "execution_count": 193,
   "id": "b110d322",
   "metadata": {},
   "outputs": [],
   "source": [
    "class car:\n",
    "    pass"
   ]
  },
  {
   "cell_type": "code",
   "execution_count": 194,
   "id": "7865f7d4",
   "metadata": {},
   "outputs": [],
   "source": [
    "audi = car()"
   ]
  },
  {
   "cell_type": "code",
   "execution_count": 197,
   "id": "9c04a429",
   "metadata": {},
   "outputs": [],
   "source": [
    "audi.wheels = \"MRF Tyres\"\n",
    "audi.window = \"Power Window\"\n",
    "audi.engine = \"120 hp\"\n",
    "audi.color = \"Red\"\n",
    "audi.cylinder = 8"
   ]
  },
  {
   "cell_type": "code",
   "execution_count": 199,
   "id": "cb2d09d1",
   "metadata": {},
   "outputs": [
    {
     "data": {
      "text/plain": [
       "int"
      ]
     },
     "execution_count": 199,
     "metadata": {},
     "output_type": "execute_result"
    }
   ],
   "source": [
    "type(audi.cylinder)"
   ]
  },
  {
   "cell_type": "code",
   "execution_count": 223,
   "id": "d3a130b9",
   "metadata": {},
   "outputs": [],
   "source": [
    "class Car:\n",
    "    def __init__(self,model,yop,ncyl,col,hp):\n",
    "        self.model = model\n",
    "        self.yop = yop\n",
    "        self.ncyl = ncyl\n",
    "        self.col = col\n",
    "        self.hp = hp\n",
    "        \n",
    "    def __str__(self):\n",
    "        return \"This Class contains Car Models %s , Year of Purchase %d data, No. of Cylinders %d, Color %s of Car & Horse Power %d\" %(self.model,self.yop,self.ncyl,self.col,self.hp)"
   ]
  },
  {
   "cell_type": "code",
   "execution_count": 214,
   "id": "7349626d",
   "metadata": {},
   "outputs": [],
   "source": [
    "BMW = Car(\"BMW\",2007,8,\"White\",350)"
   ]
  },
  {
   "cell_type": "code",
   "execution_count": 215,
   "id": "1862d108",
   "metadata": {},
   "outputs": [
    {
     "name": "stdout",
     "output_type": "stream",
     "text": [
      "This Class contains Car Models BMW , Year of Purchase 2007 data, No. of Cylinders 8, Color White of Car & Horse Power 350\n"
     ]
    }
   ],
   "source": [
    "print(BMW)"
   ]
  },
  {
   "cell_type": "code",
   "execution_count": 216,
   "id": "66214317",
   "metadata": {},
   "outputs": [
    {
     "data": {
      "text/plain": [
       "{'_Car__model': 'BMW', 'yop': 2007, 'ncyl': 8, 'col': 'White', 'hp': 350}"
      ]
     },
     "execution_count": 216,
     "metadata": {},
     "output_type": "execute_result"
    }
   ],
   "source": [
    "BMW.__dict__"
   ]
  },
  {
   "cell_type": "code",
   "execution_count": 219,
   "id": "83b07e18",
   "metadata": {},
   "outputs": [
    {
     "data": {
      "text/plain": [
       "'BMW'"
      ]
     },
     "execution_count": 219,
     "metadata": {},
     "output_type": "execute_result"
    }
   ],
   "source": [
    "BMW._Car__model"
   ]
  },
  {
   "cell_type": "code",
   "execution_count": 226,
   "id": "7a8d7cea",
   "metadata": {},
   "outputs": [],
   "source": [
    "class ev(Car):\n",
    "    def __init__(self,battery,milege,*args):\n",
    "        super(ev,self).__init__(*args)\n",
    "        self.battery = battery\n",
    "        self.milege = milege"
   ]
  },
  {
   "cell_type": "code",
   "execution_count": 227,
   "id": "0dd26b02",
   "metadata": {},
   "outputs": [],
   "source": [
    "nexa = ev(50000,120,\"Electric Vehicle\",2021,\"Nil\",\"Red\",\"Nil\")"
   ]
  },
  {
   "cell_type": "code",
   "execution_count": 228,
   "id": "c16c2f67",
   "metadata": {},
   "outputs": [
    {
     "data": {
      "text/plain": [
       "2021"
      ]
     },
     "execution_count": 228,
     "metadata": {},
     "output_type": "execute_result"
    }
   ],
   "source": [
    "nexa.yop"
   ]
  },
  {
   "cell_type": "code",
   "execution_count": 229,
   "id": "ae3b9b3c",
   "metadata": {},
   "outputs": [
    {
     "data": {
      "text/plain": [
       "'Nil'"
      ]
     },
     "execution_count": 229,
     "metadata": {},
     "output_type": "execute_result"
    }
   ],
   "source": [
    "nexa.hp"
   ]
  },
  {
   "cell_type": "code",
   "execution_count": 230,
   "id": "b4cd10c3",
   "metadata": {},
   "outputs": [
    {
     "data": {
      "text/plain": [
       "'Red'"
      ]
     },
     "execution_count": 230,
     "metadata": {},
     "output_type": "execute_result"
    }
   ],
   "source": [
    "nexa.col"
   ]
  },
  {
   "cell_type": "code",
   "execution_count": 231,
   "id": "7691bc17",
   "metadata": {},
   "outputs": [
    {
     "data": {
      "text/plain": [
       "50000"
      ]
     },
     "execution_count": 231,
     "metadata": {},
     "output_type": "execute_result"
    }
   ],
   "source": [
    "nexa.battery\n"
   ]
  },
  {
   "cell_type": "code",
   "execution_count": 232,
   "id": "e966c65b",
   "metadata": {},
   "outputs": [
    {
     "data": {
      "text/plain": [
       "120"
      ]
     },
     "execution_count": 232,
     "metadata": {},
     "output_type": "execute_result"
    }
   ],
   "source": [
    "nexa.milege"
   ]
  },
  {
   "cell_type": "code",
   "execution_count": 238,
   "id": "0b1a677c",
   "metadata": {},
   "outputs": [],
   "source": [
    "#Factorial Function\n",
    "\n",
    "def facto(num):\n",
    "    m = []\n",
    "    a = 1\n",
    "    for i in range(num,0,-1):\n",
    "        m.append(i)\n",
    "\n",
    "    for i in m:\n",
    "        a = a * i\n",
    "    return a"
   ]
  },
  {
   "cell_type": "code",
   "execution_count": 239,
   "id": "5b85ab7c",
   "metadata": {},
   "outputs": [
    {
     "data": {
      "text/plain": [
       "120"
      ]
     },
     "execution_count": 239,
     "metadata": {},
     "output_type": "execute_result"
    }
   ],
   "source": [
    "facto(5)"
   ]
  },
  {
   "cell_type": "code",
   "execution_count": 267,
   "id": "7c4f78f9",
   "metadata": {},
   "outputs": [],
   "source": [
    "def palim(s):\n",
    "    s1 = list(s)\n",
    "    rs = s1[::-1]\n",
    "    \n",
    "    if s1 == rs:\n",
    "        return \"It is a palindrom Number\"\n",
    "    else: return \"Its not palindrom Number\""
   ]
  },
  {
   "cell_type": "code",
   "execution_count": 262,
   "id": "2feef74b",
   "metadata": {},
   "outputs": [
    {
     "data": {
      "text/plain": [
       "'Its not palindrom Number'"
      ]
     },
     "execution_count": 262,
     "metadata": {},
     "output_type": "execute_result"
    }
   ],
   "source": [
    "palim(\"nurse\")"
   ]
  },
  {
   "cell_type": "code",
   "execution_count": 266,
   "id": "4f0bad37",
   "metadata": {},
   "outputs": [
    {
     "data": {
      "text/plain": [
       "'It is a palindrom Number'"
      ]
     },
     "execution_count": 266,
     "metadata": {},
     "output_type": "execute_result"
    }
   ],
   "source": [
    "palim(\"anna\")"
   ]
  },
  {
   "cell_type": "code",
   "execution_count": 251,
   "id": "d351cc66",
   "metadata": {},
   "outputs": [],
   "source": [
    " s = \"madam\""
   ]
  },
  {
   "cell_type": "code",
   "execution_count": 253,
   "id": "12d4df8a",
   "metadata": {},
   "outputs": [
    {
     "data": {
      "text/plain": [
       "['m', 'a', 'd', 'a', 'm']"
      ]
     },
     "execution_count": 253,
     "metadata": {},
     "output_type": "execute_result"
    }
   ],
   "source": [
    "s1 = list(s)\n",
    "s1"
   ]
  },
  {
   "cell_type": "code",
   "execution_count": 257,
   "id": "0fe20dde",
   "metadata": {},
   "outputs": [],
   "source": [
    "rs = s1[::-1]"
   ]
  },
  {
   "cell_type": "code",
   "execution_count": 258,
   "id": "f9a7a540",
   "metadata": {},
   "outputs": [
    {
     "data": {
      "text/plain": [
       "['m', 'a', 'd', 'a', 'm']"
      ]
     },
     "execution_count": 258,
     "metadata": {},
     "output_type": "execute_result"
    }
   ],
   "source": [
    "rs"
   ]
  }
 ],
 "metadata": {
  "kernelspec": {
   "display_name": "Python 3",
   "language": "python",
   "name": "python3"
  },
  "language_info": {
   "codemirror_mode": {
    "name": "ipython",
    "version": 3
   },
   "file_extension": ".py",
   "mimetype": "text/x-python",
   "name": "python",
   "nbconvert_exporter": "python",
   "pygments_lexer": "ipython3",
   "version": "3.8.8"
  }
 },
 "nbformat": 4,
 "nbformat_minor": 5
}
